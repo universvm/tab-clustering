{
 "cells": [
  {
   "cell_type": "code",
   "execution_count": 21,
   "metadata": {},
   "outputs": [
    {
     "name": "stdout",
     "output_type": "stream",
     "text": [
      "0.002062405367280148\n",
      "0.7092972666062738\n",
      "0.0\n"
     ]
    },
    {
     "name": "stderr",
     "output_type": "stream",
     "text": [
      "/Users/leo/Library/Python/3.6/lib/python/site-packages/sklearn/feature_extraction/text.py:286: UserWarning: Your stop_words may be inconsistent with your preprocessing. Tokenizing the stop words generated tokens ['abov', 'afterward', 'alon', 'alreadi', 'alway', 'ani', 'anoth', 'anyon', 'anyth', 'anywher', 'becam', 'becaus', 'becom', 'befor', 'besid', 'cri', 'describ', 'dure', 'els', 'elsewher', 'empti', 'everi', 'everyon', 'everyth', 'everywher', 'fifti', 'formerli', 'forti', 'ha', 'henc', 'hereaft', 'herebi', 'hi', 'howev', 'hundr', 'inde', 'latterli', 'mani', 'meanwhil', 'moreov', 'mostli', 'nobodi', 'noon', 'noth', 'nowher', 'onc', 'onli', 'otherwis', 'ourselv', 'perhap', 'pleas', 'seriou', 'sever', 'sinc', 'sincer', 'sixti', 'someon', 'someth', 'sometim', 'somewher', 'themselv', 'thenc', 'thereaft', 'therebi', 'therefor', 'thi', 'thu', 'togeth', 'twelv', 'twenti', 'veri', 'wa', 'whatev', 'whenc', 'whenev', 'wherea', 'whereaft', 'wherebi', 'wherev', 'whi', 'yourselv'] not in stop_words.\n",
      "  sorted(inconsistent))\n"
     ]
    }
   ],
   "source": [
    "import nltk, string\n",
    "from sklearn.feature_extraction.text import TfidfVectorizer\n",
    "\n",
    "#nltk.download('punkt')\n",
    "\n",
    "stemmer = nltk.stem.porter.PorterStemmer()\n",
    "remove_punctuation_map = dict((ord(char), None) for char in string.punctuation)\n",
    "\n",
    "def stem_tokens(tokens):\n",
    "    return [stemmer.stem(item) for item in tokens]\n",
    "\n",
    "'''remove punctuation, lowercase, stem'''\n",
    "def normalize(text):\n",
    "    return stem_tokens(nltk.word_tokenize(text.lower().translate(remove_punctuation_map)))\n",
    "\n",
    "vectorizer = TfidfVectorizer(tokenizer=normalize, stop_words='english')\n",
    "\n",
    "def cosine_sim(text1, text2):\n",
    "    tfidf = vectorizer.fit_transform([text1, text2])\n",
    "    return ((tfidf * tfidf.T).A)[0,1]\n",
    "\n",
    "\n",
    "print(cosine_sim('a little bir asd  asd d asd asdw w ad dasd das dd asd  asd d asd asdw w ad dasd das dd asd  asd d asd asdw w ad dasd das dd asd  asd d asd asdw w ad dasd das dd asd  asd d asd asdw w ad dasd das dd asd  asd d asd asdw w ad dasd das dd asd  asd d asd asdw w ad dasd das dd asd  asd d asd asdw w ad dasd das dd asd  asd d asd asdw w ad dasd das dd asd  asd d asd asdw w ad dasd das dd asd  asd d asd asdw w ad dasd das dd asd  asd d asd asdw w ad dasd das dd asd  asd d asd asdw w ad dasd das dd asd  asd d asd asdw w ad dasd das dd asd  asd d asd asdw w ad dasd das dd asd  asd d asd asdw w ad dasd das dd asd  asd d asd asdw w ad dasd das dd asd  asd d asd asdw w ad dasd das dd asd  asd d asd asdw w ad dasd das dd asd  asd d asd asdw w ad dasd das dd asd  asd d asd asdw w ad dasd das dd asd  asd d asd asdw w ad dasd das dd asd  asd d asd asdw w ad dasd das dd asd  asd d asd asdw w ad dasd das dd asd  asd d asd asdw w ad dasd das dd asd  asd d asd asdw w ad dasd das dd asd  asd d asd asdw w ad dasd das dd asd  asd d asd asdw w ad dasd das dd asd  asd d asd asdw w ad dasd das dd asd  asd d asd asdw w ad dasd das dd asd  asd d asd asdw w ad dasd das dd asd  asd d asd asdw w ad dasd das dd asd  asd d asd asdw w ad dasd das dd asd  asd d asd asdw w ad dasd das dd asd  asd d asd asdw w ad dasd das dd asd  asd d asd asdw w ad dasd das dd asd  asd d asd asdw w ad dasd das dd asd  asd d asd asdw w ad dasd das dd asd  asd d asd asdw w ad dasd das dd asd  asd d asd asdw w ad dasd das dd asd  asd d asd asdw w ad dasd das dd asd  asd d asd asdw w ad dasd das dd asd  asd d asd asdw w ad dasd das dd asd  asd d asd asdw w ad dasd das dd asd  asd d asd asdw w ad dasd das dd asd  asd d asd asdw w ad dasd das dd asd  asd d asd asdw w ad dasd das dd asd  asd d asd asdw w ad dasd das dd asd  asd d asd asdw w ad dasd das dd asd  asd d asd asdw w ad dasd das dd', 'a little bird'))\n",
    "print(cosine_sim('a little bird', 'a little bird chirps'))\n",
    "print(cosine_sim('a little bird', 'a big dog barks'))"
   ]
  },
  {
   "cell_type": "code",
   "execution_count": 34,
   "metadata": {},
   "outputs": [],
   "source": [
    "import bs4\n",
    "import urllib.request\n",
    "\n",
    "link1 = 'https://github.com/likejazz/Siamese-LSTM'\n",
    "link2 = 'https://github.com/Blankj/awesome-java-leetcode/blob/master/Companies.md'\n",
    "\n",
    "webpage1=str(urllib.request.urlopen(link1).read())\n",
    "webpage2=str(urllib.request.urlopen(link2).read())\n",
    "\n",
    "\n",
    "soup1 = bs4.BeautifulSoup(webpage1, \"lxml\")\n",
    "soup2 = bs4.BeautifulSoup(webpage2, \"lxml\")\n"
   ]
  },
  {
   "cell_type": "code",
   "execution_count": 29,
   "metadata": {},
   "outputs": [
    {
     "data": {
      "text/plain": [
       "0.9890888060726646"
      ]
     },
     "execution_count": 29,
     "metadata": {},
     "output_type": "execute_result"
    }
   ],
   "source": [
    "cosine_sim(soup1.get_text(), soup2.get_text())"
   ]
  },
  {
   "cell_type": "code",
   "execution_count": 31,
   "metadata": {},
   "outputs": [
    {
     "data": {
      "text/plain": [
       "0.011179459707693228"
      ]
     },
     "execution_count": 31,
     "metadata": {},
     "output_type": "execute_result"
    }
   ],
   "source": [
    "cosine_sim(soup1.get_text(), soup2.get_text())"
   ]
  },
  {
   "cell_type": "code",
   "execution_count": 33,
   "metadata": {},
   "outputs": [
    {
     "data": {
      "text/plain": [
       "0.010301272843688397"
      ]
     },
     "execution_count": 33,
     "metadata": {},
     "output_type": "execute_result"
    }
   ],
   "source": [
    "cosine_sim(soup1.get_text(), soup2.get_text())"
   ]
  },
  {
   "cell_type": "code",
   "execution_count": 35,
   "metadata": {},
   "outputs": [
    {
     "data": {
      "text/plain": [
       "0.9941354251046172"
      ]
     },
     "execution_count": 35,
     "metadata": {},
     "output_type": "execute_result"
    }
   ],
   "source": [
    "cosine_sim(soup1.get_text(), soup2.get_text())"
   ]
  },
  {
   "cell_type": "code",
   "execution_count": 36,
   "metadata": {},
   "outputs": [
    {
     "data": {
      "text/plain": [
       "\"b'\\\\n\\\\n\\\\n\\\\n\\\\n\\\\n\\\\n\\\\n  \\\\n    \\\\n  \\\\n  \\\\n  \\\\n  \\\\n  \\\\n  \\\\n  \\\\n\\\\n\\\\n\\\\n  \\\\n  \\\\n    \\\\n    \\\\n    \\\\n    \\\\n    \\\\n\\\\n  \\\\n  \\\\n  GitHub - likejazz/Siamese-LSTM: Siamese LSTM for evaluating semantic similarity between sentences of the Quora Question Pairs Dataset.\\\\n    \\\\n    \\\\n  \\\\n  \\\\n\\\\n    \\\\n    \\\\n\\\\n  \\\\n  \\\\n  \\\\n  \\\\n  \\\\n\\\\n\\\\n  \\\\n\\\\n  \\\\n\\\\n      \\\\n    \\\\n    \\\\n\\\\n  \\\\n\\\\n\\\\n\\\\n\\\\n    \\\\n\\\\n\\\\n\\\\n\\\\n\\\\n\\\\n  \\\\n\\\\n      \\\\n    \\\\n\\\\n      \\\\n    \\\\n\\\\n    \\\\n\\\\n  \\\\n\\\\n  \\\\n  \\\\n\\\\n      \\\\n\\\\n  \\\\n\\\\n  \\\\n\\\\n\\\\n    \\\\n\\\\n\\\\n  \\\\n\\\\n  \\\\n\\\\n  \\\\n  \\\\n\\\\n\\\\n\\\\n\\\\n\\\\n\\\\n\\\\n  \\\\n\\\\n  \\\\n\\\\n  \\\\n    \\\\n\\\\n  \\\\n    Skip to content\\\\n    \\\\n\\\\n    \\\\n    \\\\n    \\\\n\\\\n\\\\n        \\\\n  \\\\n    \\\\n        \\\\n          \\\\n        \\\\n    \\\\n\\\\n    \\\\n      \\\\n        \\\\n          \\\\n        \\\\n      \\\\n\\\\n        \\\\n          \\\\n              \\\\n                \\\\n                  \\\\n                    Why GitHub?\\\\n                    \\\\n                      \\\\n                    \\\\n                  \\\\n                  \\\\n                    Features →\\\\n                    \\\\n                      Code review\\\\n                      Project management\\\\n                      Integrations\\\\n                      Actions\\\\n                          Package registry\\\\n\\\\n                      Security\\\\n                      Team management\\\\n                      Social coding\\\\n                      Documentation\\\\n                      Code hosting\\\\n                    \\\\n\\\\n                    \\\\n                      Customer stories →\\\\n                      Security →\\\\n                    \\\\n                  \\\\n                \\\\n              \\\\n              \\\\n                Enterprise\\\\n              \\\\n\\\\n              \\\\n                \\\\n                  \\\\n                    Explore\\\\n                    \\\\n                      \\\\n                    \\\\n                  \\\\n\\\\n                  \\\\n                    \\\\n                      Explore GitHub →\\\\n                    \\\\n\\\\n                    Learn & contribute\\\\n                    \\\\n                      Topics\\\\n                        Collections\\\\n                      Trending\\\\n                      Learning Lab\\\\n                      Open source guides\\\\n                    \\\\n\\\\n                    Connect with others\\\\n                    \\\\n                      Events\\\\n                      Community forum\\\\n                      GitHub Education\\\\n                    \\\\n                  \\\\n                \\\\n              \\\\n\\\\n              \\\\n                Marketplace\\\\n              \\\\n\\\\n              \\\\n                \\\\n                  \\\\n                    Pricing\\\\n                    \\\\n                       \\\\n                    \\\\n                  \\\\n\\\\n                  \\\\n                    Plans →\\\\n\\\\n                    \\\\n                      Compare plans\\\\n                      Contact Sales\\\\n                    \\\\n\\\\n                    \\\\n                      Nonprofit →\\\\n                      Education →\\\\n                    \\\\n                  \\\\n                \\\\n              \\\\n          \\\\n        \\\\n\\\\n      \\\\n          \\\\n            \\\\n  \\\\n    \\\\n      \\\\n        \\\\n          \\\\n            \\\\n\\\\n            \\\\n              \\\\n\\\\n  \\\\n\\\\n\\\\n  \\\\n    \\\\n      \\\\n      \\\\n      \\\\n    \\\\n\\\\n    \\\\n\\\\n    \\\\n    \\\\n\\\\n    \\\\n      \\\\n        In this repository\\\\n      \\\\n      \\\\n        All GitHub\\\\n      \\\\n      \\\\xe2\\\\x86\\\\xb5\\\\n    \\\\n\\\\n    \\\\n      Jump to\\\\n      \\\\xe2\\\\x86\\\\xb5\\\\n    \\\\n  \\\\n\\\\n\\\\n\\\\n\\\\n\\\\n  \\\\n    No suggested jump to results\\\\n  \\\\n\\\\n\\\\n\\\\n  \\\\n\\\\n\\\\n  \\\\n    \\\\n      \\\\n      \\\\n      \\\\n    \\\\n\\\\n    \\\\n\\\\n    \\\\n    \\\\n\\\\n    \\\\n      \\\\n        In this repository\\\\n      \\\\n      \\\\n        All GitHub\\\\n      \\\\n      \\\\xe2\\\\x86\\\\xb5\\\\n    \\\\n\\\\n    \\\\n      Jump to\\\\n      \\\\xe2\\\\x86\\\\xb5\\\\n    \\\\n  \\\\n\\\\n\\\\n  \\\\n\\\\n\\\\n  \\\\n    \\\\n      \\\\n      \\\\n      \\\\n    \\\\n\\\\n    \\\\n\\\\n    \\\\n    \\\\n\\\\n    \\\\n      \\\\n        In this repository\\\\n      \\\\n      \\\\n        All GitHub\\\\n      \\\\n      \\\\xe2\\\\x86\\\\xb5\\\\n    \\\\n\\\\n    \\\\n      Jump to\\\\n      \\\\xe2\\\\x86\\\\xb5\\\\n    \\\\n  \\\\n\\\\n\\\\n\\\\n\\\\n\\\\n            \\\\n      \\\\n \\\\n\\\\n\\\\n          \\\\n\\\\n        \\\\n          Sign\\xa0in\\\\n        \\\\n          \\\\n            Sign\\xa0up\\\\n          \\\\n      \\\\n    \\\\n  \\\\n\\\\n\\\\n  \\\\n\\\\n  \\\\n\\\\n\\\\n    \\\\n\\\\n\\\\n\\\\n\\\\n\\\\n  \\\\n        \\\\n    \\\\n      \\\\n  \\\\n\\\\n\\\\n\\\\n\\\\n\\\\n\\\\n\\\\n\\\\n\\\\n\\\\n  \\\\n    \\\\n\\\\n      \\\\n\\\\n\\\\n\\\\n\\\\n  \\\\n    \\\\n  \\\\n    \\\\n    Watch\\\\n \\\\n      8\\\\n    \\\\n\\\\n  \\\\n\\\\n  \\\\n        \\\\n      \\\\n      Star\\\\n\\\\n    \\\\n      137\\\\n    \\\\n\\\\n  \\\\n\\\\n  \\\\n      \\\\n        \\\\n        Fork\\\\n\\\\n    \\\\n      41\\\\n    \\\\n  \\\\n\\\\n\\\\n      \\\\n    \\\\n  likejazz/Siamese-LSTM\\\\n  \\\\n\\\\n\\\\n\\\\n    \\\\n    \\\\n\\\\n\\\\n  \\\\n    \\\\n      \\\\n      Code\\\\n      \\\\n \\\\n\\\\n    \\\\n      \\\\n        \\\\n        Issues\\\\n        3\\\\n        \\\\n \\\\n\\\\n  \\\\n    \\\\n      \\\\n      Pull requests\\\\n      0\\\\n      \\\\n \\\\n\\\\n\\\\n    \\\\n      \\\\n      Projects\\\\n      0\\\\n\\\\n\\\\n\\\\n    \\\\n      \\\\n      Security\\\\n\\\\n    \\\\n      \\\\n      Insights\\\\n\\\\n\\\\n\\\\n\\\\n\\\\n  \\\\n\\\\n  \\\\n\\\\n    \\\\n    \\\\n        \\\\n      \\\\n        \\\\n          \\\\n            \\\\n              Dismiss\\\\n            \\\\n Join GitHub today\\\\n          GitHub is home to over 40 million developers working together to host and review code, manage projects, and build software together.\\\\n          Sign up\\\\n        \\\\n      \\\\n    \\\\n\\\\n\\\\n       \\\\n        \\\\n          Siamese LSTM for evaluating semantic similarity between sentences of the Quora Question Pairs Dataset.\\\\n        \\\\n  \\\\n\\\\n\\\\n     \\\\n      \\\\n  lstm\\\\n\\\\n\\\\n      \\\\n  keras\\\\n\\\\n\\\\n      \\\\n  deep-learning\\\\n\\\\n\\\\n      \\\\n  nlp\\\\n\\\\n\\\\n  \\\\n\\\\n\\\\n\\\\n\\\\n  \\\\n    \\\\n      \\\\n        \\\\n            \\\\n            \\\\n              18\\\\n            \\\\n            commits\\\\n        \\\\n      \\\\n      \\\\n        \\\\n          \\\\n          \\\\n            1\\\\n          \\\\n          branch\\\\n        \\\\n      \\\\n\\\\n\\\\n      \\\\n        \\\\n          \\\\n          \\\\n            0\\\\n          \\\\n          releases\\\\n        \\\\n      \\\\n\\\\n\\\\n        \\\\n            \\\\n  \\\\n    \\\\n      0\\\\n    \\\\n    contributors\\\\n\\\\n        \\\\n\\\\n    \\\\n  \\\\n\\\\n    \\\\n      \\\\n        \\\\n            Python\\\\n        \\\\n      \\\\n      \\\\n        \\\\n          \\\\n              \\\\n                \\\\n                Python\\\\n                100.0%\\\\n              \\\\n          \\\\n        \\\\n      \\\\n    \\\\n\\\\n\\\\n\\\\n\\\\n\\\\n\\\\n  \\\\n  \\\\n\\\\n  \\\\n    Branch:\\\\n    master\\\\n  \\\\n\\\\n  \\\\n    \\\\n      \\\\n    \\\\n  \\\\n\\\\n\\\\n\\\\n        \\\\n          New pull request\\\\n        \\\\n\\\\n  \\\\n    \\\\n  \\\\n\\\\n  \\\\n\\\\n\\\\n    Find File\\\\n  \\\\n\\\\n\\\\n    \\\\n\\\\n    \\\\n  \\\\n    Clone or download\\\\n    \\\\n \\\\n    \\\\n\\\\n      \\\\n          \\\\n\\\\n            \\\\n              Clone with HTTPS\\\\n              \\\\n                \\\\n              \\\\n            \\\\n            \\\\n              Use Git or checkout with SVN using the web URL.\\\\n            \\\\n\\\\n            \\\\n  \\\\n  \\\\n    \\\\n  \\\\n\\\\n\\\\n          \\\\n\\\\n        \\\\n          \\\\nDownload ZIP\\\\n\\\\n        \\\\n      \\\\n\\\\n        \\\\n          \\\\n            Downloading...\\\\n            \\\\n              Want to be notified of new releases in\\\\n              likejazz/Siamese-LSTM?\\\\n            \\\\n          \\\\n          \\\\n            Sign in\\\\n              Sign up\\\\n          \\\\n        \\\\n\\\\n      \\\\n        Launching GitHub Desktop...\\\\n        If nothing happens, download GitHub Desktop and try again.\\\\n        Go back\\\\n      \\\\n\\\\n      \\\\n        Launching GitHub Desktop...\\\\n        If nothing happens, download GitHub Desktop and try again.\\\\n        Go back\\\\n      \\\\n\\\\n      \\\\n        Launching Xcode...\\\\n        If nothing happens, download Xcode and try again.\\\\n        Go back\\\\n      \\\\n\\\\n      \\\\n        Launching Visual Studio...\\\\n        If nothing happens, download the GitHub extension for Visual Studio and try again.\\\\n        Go back\\\\n      \\\\n\\\\n    \\\\n  \\\\n\\\\n\\\\n\\\\n\\\\n\\\\n  \\\\n\\\\n\\\\n  \\\\n    \\\\n\\\\n  \\\\n        \\\\n  \\\\n\\\\n\\\\n    \\\\n      \\\\n        Sang-Kil Park\\\\n\\\\n\\\\n  \\\\n\\\\n\\\\n        Make a result worth a little bit more.\\\\n\\\\n    \\\\n    \\\\n      Latest commit\\\\n      \\\\n        89f9eef\\\\n      \\\\n      Mar 22, 2018\\\\n    \\\\n  \\\\n\\\\n\\\\n\\\\n\\\\n  Permalink\\\\n\\\\n  \\\\n    \\\\n      \\\\n        Type\\\\n        Name\\\\n        Latest commit message\\\\n        Commit time\\\\n      \\\\n    \\\\n\\\\n\\\\n    \\\\n      \\\\n        \\\\n        Failed to load latest commit information.\\\\n      \\\\n\\\\n        \\\\n          \\\\n            \\\\n            \\\\n          \\\\n          \\\\n            data\\\\n          \\\\n          \\\\n            \\\\n                  Add data dir\\\\n            \\\\n          \\\\n          \\\\n            Mar 16, 2018\\\\n          \\\\n        \\\\n        \\\\n          \\\\n            \\\\n            \\\\n          \\\\n          \\\\n            README.md\\\\n          \\\\n          \\\\n            \\\\n                  Use tf.keras instead of just plain keras API.\\\\n            \\\\n          \\\\n          \\\\n            Mar 17, 2018\\\\n          \\\\n        \\\\n        \\\\n          \\\\n            \\\\n            \\\\n          \\\\n          \\\\n            predict.py\\\\n          \\\\n          \\\\n            \\\\n                  Update predict.py\\\\n            \\\\n          \\\\n          \\\\n            Mar 20, 2018\\\\n          \\\\n        \\\\n        \\\\n          \\\\n            \\\\n            \\\\n          \\\\n          \\\\n            train.py\\\\n          \\\\n          \\\\n            \\\\n                  Make a result worth a little bit more.\\\\n            \\\\n          \\\\n          \\\\n            Mar 22, 2018\\\\n          \\\\n        \\\\n        \\\\n          \\\\n            \\\\n            \\\\n          \\\\n          \\\\n            util.py\\\\n          \\\\n          \\\\n            \\\\n                  Add word2vec generator.\\\\n            \\\\n          \\\\n          \\\\n            Mar 19, 2018\\\\n          \\\\n        \\\\n        \\\\n          \\\\n            \\\\n            \\\\n          \\\\n          \\\\n            word2vec.py\\\\n          \\\\n          \\\\n            \\\\n                  Fix typo.\\\\n            \\\\n          \\\\n          \\\\n            Mar 19, 2018\\\\n          \\\\n        \\\\n    \\\\n  \\\\n\\\\n\\\\n\\\\n\\\\n\\\\n  \\\\n    \\\\n      \\\\n        \\\\n        README.md\\\\n      \\\\n    \\\\n        \\\\n  \\\\n    \\\\n    \\\\n  \\\\n\\\\n\\\\n      \\\\n        Siamese-LSTM\\\\nUsing MaLSTM model(Siamese networks + LSTM with Manhattan distance) to detect semantic similarity between question pairs. Training dataset used is a subset of the original Quora Question Pairs Dataset(~363K pairs used).\\\\nIt is Keras implementation based on Original Paper(PDF) and Excellent Medium Article.\\\\n\\\\nPrerequisite\\\\n\\\\nPaper, Articles\\\\n\\\\nSiamese Recurrent Architectures for Learning Sentence Similarity\\\\nHow to predict Quora Question Pairs using Siamese Manhattan LSTM\\\\n\\\\n\\\\nData\\\\n\\\\nGoogleNews-vectors-negative300.bin.gz\\\\nKaggle\\\\'s Quora Question Pairs Dataset\\\\n\\\\n\\\\nReferences\\\\n\\\\naditya1503/Siamese-LSTM Original author\\\\'s GitHub\\\\ndhwajraj/deep-siamese-text-similarity TensorFlow based implementation\\\\n\\\\n\\\\n\\\\nKaggle\\\\'s test.csv is too big, so I had extracted only the top 20 questions and created a file called test-20.csv and It is used in the predict.py.\\\\nYou should put all data files to ./data directory.\\\\nHow to Run\\\\nTraining\\\\n$ python3 train.py\\\\n\\\\nPredicting\\\\nIt uses test-20.csv file mentioned above.\\\\n$ python3 predict.py\\\\n\\\\nThe Results\\\\nI have tried with various parameters such as number of hidden states of LSTM cell, activation function of LSTM cell and repeated count of epochs.\\\\nI have used NVIDIA Tesla P40 GPU x 2 for training and 10% data was used as the validation set(batch size=1024*2).\\\\nAs a result, I have reached about 82.29% accuracy after 50 epochs about 10 mins later.\\\\nEpoch 50/50\\\\n363861/363861 [==============================] - 12s 33us/step - loss: 0.1172 - acc: 0.8486 - val_loss: 0.1315 - val_acc: 0.8229\\\\nTraining time finished.\\\\n50 epochs in       601.24\\\\n\\\\n\\\\n      \\\\n  \\\\n\\\\n\\\\n\\\\n  \\\\n\\\\n\\\\n    \\\\n  \\\\n  \\\\n\\\\n  \\\\n\\\\n        \\\\n\\\\n  \\\\n    \\\\n      © 2019 GitHub, Inc.\\\\n        Terms\\\\n        Privacy\\\\n        Security\\\\n        Status\\\\n        Help\\\\n    \\\\n\\\\n    \\\\n      \\\\n\\\\n   \\\\n        Contact GitHub\\\\n        Pricing\\\\n      API\\\\n      Training\\\\n        Blog\\\\n        About\\\\n\\\\n    \\\\n  \\\\n  \\\\n    \\\\n  \\\\n\\\\n\\\\n\\\\n\\\\n  \\\\n    \\\\n    \\\\n      \\\\n    \\\\n    You can\\\\xe2\\\\x80\\\\x99t perform that action at this time.\\\\n  \\\\n\\\\n\\\\n    \\\\n    \\\\n    \\\\n    \\\\n    \\\\n    \\\\n    \\\\n  \\\\n    \\\\n    You signed in with another tab or window. Reload to refresh your session.\\\\n    You signed out in another tab or window. Reload to refresh your session.\\\\n  \\\\n  \\\\n  \\\\n    \\\\n    \\\\n      \\\\n        \\\\n      \\\\n      \\\\n    \\\\n  \\\\n\\\\n\\\\n  \\\\n  \\\\n  \\\\n\\\\n\\\\n  \\\\n\\\\n  \\\\n\\\\n\\\\n'\""
      ]
     },
     "execution_count": 36,
     "metadata": {},
     "output_type": "execute_result"
    }
   ],
   "source": [
    "soup1.get_text()"
   ]
  },
  {
   "cell_type": "code",
   "execution_count": null,
   "metadata": {},
   "outputs": [],
   "source": []
  }
 ],
 "metadata": {
  "kernelspec": {
   "display_name": "Python 3",
   "language": "python",
   "name": "python3"
  },
  "language_info": {
   "codemirror_mode": {
    "name": "ipython",
    "version": 3
   },
   "file_extension": ".py",
   "mimetype": "text/x-python",
   "name": "python",
   "nbconvert_exporter": "python",
   "pygments_lexer": "ipython3",
   "version": "3.6.5"
  },
  "pycharm": {
   "stem_cell": {
    "cell_type": "raw",
    "metadata": {
     "collapsed": false
    },
    "source": []
   }
  }
 },
 "nbformat": 4,
 "nbformat_minor": 2
}
